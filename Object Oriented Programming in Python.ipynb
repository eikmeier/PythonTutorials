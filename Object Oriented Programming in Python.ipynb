{
 "cells": [
  {
   "cell_type": "markdown",
   "metadata": {},
   "source": [
    "## Object Oriented Design <p> December 7, 2018\n",
    "\n",
    "In this lab we will explore **Object Oriented Programming**. Object oriented programming is a method of programming that attempts to model some process or thing in the world as a class or object. Conceptually, you can think of a class or object as something that has data and can perform operations on that data. With object oriented programming, the goal is to encapsulate your code into logical groupings using classes so that you can reason about your code at a higher level. Before we get ahead of ourselves, though, let's see an example:"
   ]
  },
  {
   "cell_type": "code",
   "execution_count": null,
   "metadata": {},
   "outputs": [],
   "source": [
    "class Pet:\n",
    "    def __init__(self, name, animal_type, age):\n",
    "        self.name = name\n",
    "        self.animal_type = animal_type\n",
    "        self.age = age\n",
    "        self.tricks = []\n",
    "        \n",
    "    def add_trick(self, trick):\n",
    "        self.tricks.append(trick)"
   ]
  },
  {
   "cell_type": "markdown",
   "metadata": {},
   "source": [
    "We've made a *class* called Pet. A pet can have a number of instance variables: name, animal_type, age, and tricks. Copy the code and try each of the following commands:"
   ]
  },
  {
   "cell_type": "code",
   "execution_count": null,
   "metadata": {},
   "outputs": [],
   "source": [
    "myFirstPet = Pet(\"Fido\",\"Dog\",\"6\")\n",
    "myFirstPet.name\n",
    "myFirstPet.add_trick(\"roll over\")\n",
    "myFirstPet.tricks\n",
    "mySecondPet = Pet(\"Oscar\",\"Cat\",\"4\")\n",
    "mySecondPet.add_trick(\"napping\")\n",
    "mySecondPet.tricks"
   ]
  },
  {
   "cell_type": "code",
   "execution_count": null,
   "metadata": {},
   "outputs": [],
   "source": [
    "class Pet2:\n",
    "    tricks = []\n",
    "\n",
    "    def __init__(self, name):\n",
    "        self.name = name\n",
    "\n",
    "    def add_trick(self, trick):\n",
    "        self.tricks.append(trick)"
   ]
  },
  {
   "cell_type": "markdown",
   "metadata": {},
   "source": [
    "### Q1: What is the difference between Pet2 and Pet? \n",
    "\n",
    "Run the following commands:"
   ]
  },
  {
   "cell_type": "code",
   "execution_count": null,
   "metadata": {
    "scrolled": true
   },
   "outputs": [],
   "source": [
    "myFirstPet = Pet2(\"Fido\")\n",
    "myFirstPet.name\n",
    "myFirstPet.add_trick(\"roll over\")\n",
    "myFirstPet.tricks\n",
    "mySecondPet = Pet2(\"Oscar\")\n",
    "mySecondPet.add_trick(\"napping\")\n",
    "mySecondPet.tricks"
   ]
  },
  {
   "cell_type": "markdown",
   "metadata": {},
   "source": [
    "### Q2: Describe what you observe in the output. Is it what you expected? Is the behavior desirable?\n",
    "\n",
    "Let's construct a new class which **inherits** from the Pet class. The new Dog class contains every attribute from the Pet class, plus a new attribute called chases_cats. It also has a new method. "
   ]
  },
  {
   "cell_type": "code",
   "execution_count": 56,
   "metadata": {},
   "outputs": [],
   "source": [
    "class Dog(Pet):\n",
    "    def __init__(self, name, age, chases_cats):\n",
    "        self.chases_cats = chases_cats\n",
    "        Pet.__init__(self, name,\"dog\",age)\n",
    "        \n",
    "    def chases_cats(self):\n",
    "        return self.chases_cats"
   ]
  },
  {
   "cell_type": "markdown",
   "metadata": {},
   "source": [
    "Test the following commands:"
   ]
  },
  {
   "cell_type": "code",
   "execution_count": null,
   "metadata": {},
   "outputs": [],
   "source": [
    "dog1 = Pet(\"Rowdy\",\"Dog\",11)\n",
    "dog2 = Dog(\"Isabelle\", 3, True)\n",
    "isinstance(dog1,Pet)\n",
    "isinstance(dog1,Dog)\n",
    "isinstance(dog2,Pet)\n",
    "isinstance(dog2,Dog)"
   ]
  },
  {
   "cell_type": "markdown",
   "metadata": {},
   "source": [
    "### Q3: Make another new class which inherits from Pet. Make a new class which inherits from Dog. Include a new instance variable or method (or both) for each new class."
   ]
  },
  {
   "cell_type": "markdown",
   "metadata": {},
   "source": [
    "Now that we've seen a small example, let's think about a more difficult problem. Suppose we want to simulate a dice game. The game will work in the following way:\n",
    "    * A player initially rolls a random hand of dice\n",
    "    * The player gets two chances to improve the hand by rerolling some or all of the dice\n",
    "    * At the end of the hand, the values in the hand are scored according to the following values. Two pairs earns 5 points. A three of a kind earns 8 points. A full house earns 12 points. A straight (1-5 or 2-6) earns 20 points. And a five of a kind earns 30 points.\n",
    "    \n",
    "When designing this program in an object-oriented fashion we need to think about candidate **objects**. One object could be a set of dice. "
   ]
  },
  {
   "cell_type": "code",
   "execution_count": null,
   "metadata": {},
   "outputs": [],
   "source": [
    "import random\n",
    "\n",
    "class Dice:\n",
    "    def __init__(self):\n",
    "        self.dice = [0]*5\n",
    "        self.rollAll()\n",
    "        \n",
    "    def roll(self,which):\n",
    "        for pos in which:\n",
    "            self.dice[pos] = random.randrange(1,7)\n",
    "    \n",
    "    def rollAll(self):\n",
    "        self.roll(range(5))\n",
    "        \n",
    "    def values(self):\n",
    "        return self.dice[:]\n",
    "    "
   ]
  },
  {
   "cell_type": "markdown",
   "metadata": {},
   "source": [
    "In English: This code creates a class called Dice. Each set of dice is initialized to be 5 zeros, and then the rollAll method is called to obtain 5 random rolls of the dice. There are two other methods: roll, which only rolls a subset of the dice, and values, which displays the 5 dice values. Copy the code and run the following commands:"
   ]
  },
  {
   "cell_type": "code",
   "execution_count": null,
   "metadata": {},
   "outputs": [],
   "source": [
    "myDice = Dice()\n",
    "myDice.values()\n",
    "myDice.rollAll()\n",
    "myDice.values()\n",
    "myDice.roll([4])\n",
    "myDice.values()"
   ]
  },
  {
   "cell_type": "markdown",
   "metadata": {},
   "source": [
    "We also want to be able to determine the *score* of a hand of dice. This method relies on counting the number of duplicates in the set of 5 dice. \n",
    "\n",
    "### Q4: In the code below, what is the value of *counts* for the following cases? v = [1,2,2,3,5], v = [6,4,3,6,5], v = [1,1,1,1,1]."
   ]
  },
  {
   "cell_type": "code",
   "execution_count": null,
   "metadata": {},
   "outputs": [],
   "source": [
    "v = [1,2,2,3,5]\n",
    "\n",
    "counts = [0] * 7\n",
    "for value in v:\n",
    "    counts[value] = counts[value] + 1\n",
    "\n",
    "counts"
   ]
  },
  {
   "cell_type": "markdown",
   "metadata": {},
   "source": [
    "Now we can use counts in our program. Add the following method to the Dice class."
   ]
  },
  {
   "cell_type": "code",
   "execution_count": 36,
   "metadata": {},
   "outputs": [],
   "source": [
    "    def score(self):\n",
    "        counts = [0] * 7\n",
    "        for value in self.dice:\n",
    "            counts[value] = counts[value] + 1\n",
    "            \n",
    "        if 5 in counts:\n",
    "            return \"Five of a Kind\", 30\n",
    "        elif 4 in counts:\n",
    "            return \"Four of a Kind\", 15\n",
    "        elif (3 in counts) and (2 in counts):\n",
    "            return \"Full House\", 12\n",
    "        elif 3 in counts:\n",
    "            return \"Three of a Kind\", 8\n",
    "        elif not (2 in counts) and (counts[1] ==0 or counts[6] == 0):\n",
    "            return \"Straight\",20\n",
    "        elif counts.count(2) == 2:\n",
    "            return \"Two Pairs\", 5\n",
    "        else:\n",
    "            return \"Nothing\", 0"
   ]
  },
  {
   "cell_type": "markdown",
   "metadata": {},
   "source": [
    "Expirement with the code at this point. Make sure that when you roll a hand it scores properly. Notice that in the current set up, you can re-roll the hand as many times as you want, which means that there is an important component missing: The game itself.\n",
    "\n",
    "The game will need a set of dice, as well as some way to manage the rolling. The TextInterface class allows us to play the game using the terminal or console. "
   ]
  },
  {
   "cell_type": "code",
   "execution_count": null,
   "metadata": {},
   "outputs": [],
   "source": [
    "class DiceGame:\n",
    "    def __init__(self,interface):\n",
    "        self.dice = Dice()\n",
    "        self.interface = interface\n",
    "        \n",
    "    def run(self):\n",
    "        while self.interface.wantToPlay():\n",
    "            self.playRound()\n",
    "        self.interface.close()\n",
    "    \n",
    "    def playRound(self):\n",
    "        self.doRolls()\n",
    "        result,score = self.dice.score()\n",
    "        self.interface.showResult(result,score)\n",
    "        \n",
    "    def doRolls(self):\n",
    "        self.dice.rollAll()\n",
    "        roll = 1\n",
    "        self.interface.setDice(self.dice.values())\n",
    "        toRoll = self.interface.chooseDice()\n",
    "        while roll < 3 and toRoll != []:\n",
    "            self.dice.roll(toRoll)\n",
    "            roll = roll + 1\n",
    "            self.interface.setDice(self.dice.values())\n",
    "            if roll < 3:\n",
    "                toRoll = self.interface.chooseDice()\n",
    "                \n",
    "class TextInterface:\n",
    "    def __init__(self):\n",
    "        print(\"Welcome to the Dice Game\")\n",
    "        \n",
    "    def setDice(self,values):\n",
    "        print(\"Dice:\",values)\n",
    "        \n",
    "    def wantToPlay(self):\n",
    "        ans = input(\"Do you want to play? \")\n",
    "        return ans[0] in \"yY\"\n",
    "    \n",
    "    def close(self):\n",
    "        print(\"\\nThanks for playing!\")\n",
    "    \n",
    "    def showResult(self,msg,score):\n",
    "        print(\"{0}. You win {1} points.\".format(msg,score))\n",
    "        \n",
    "    def chooseDice(self):\n",
    "        return eval(input(\"Enter list of which to change ([] to stop)\"))"
   ]
  },
  {
   "cell_type": "markdown",
   "metadata": {},
   "source": [
    "The three classes: Dice, DiceGame, and TextInterface are what we need to play our game. Save these codes to a file named DiceApp.py. Then run the following code in python:"
   ]
  },
  {
   "cell_type": "code",
   "execution_count": null,
   "metadata": {},
   "outputs": [],
   "source": [
    "from DiceApp import DiceGame\n",
    "from DiceApp import TextInterface\n",
    "\n",
    "inter = TextInterface()\n",
    "app = DiceGame(inter)\n",
    "app.run()"
   ]
  },
  {
   "cell_type": "markdown",
   "metadata": {},
   "source": [
    "### Q5: Imagine that we modify our game in the following way. Suppose that a player starts the game with 100 points. Each time you play, you lose 10 points. (Though you may gain back points each time you play through the same scoring system). The player can no longer play if they have less than 10 points. \n",
    "\n",
    "### In what ways would the three classes need to change? Implement those changes. To start you off, the initialization of the DiceGame class needs to track the total points:"
   ]
  },
  {
   "cell_type": "code",
   "execution_count": null,
   "metadata": {},
   "outputs": [],
   "source": [
    "def __init__(self,interface):\n",
    "        self.dice = Dice()\n",
    "        self.interface = interface\n",
    "        self.points = 100"
   ]
  }
 ],
 "metadata": {
  "kernelspec": {
   "display_name": "Python 3",
   "language": "python",
   "name": "python3"
  },
  "language_info": {
   "codemirror_mode": {
    "name": "ipython",
    "version": 3
   },
   "file_extension": ".py",
   "mimetype": "text/x-python",
   "name": "python",
   "nbconvert_exporter": "python",
   "pygments_lexer": "ipython3",
   "version": "3.6.6"
  }
 },
 "nbformat": 4,
 "nbformat_minor": 2
}
